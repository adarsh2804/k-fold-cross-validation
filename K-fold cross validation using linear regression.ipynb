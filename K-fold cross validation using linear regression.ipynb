{
 "cells": [
  {
   "cell_type": "code",
   "execution_count": 10,
   "metadata": {},
   "outputs": [],
   "source": [
    "import pandas as pd\n",
    "import numpy as np\n",
    "from sklearn.linear_model import LinearRegression      # this module is used to fit linear regression model"
   ]
  },
  {
   "cell_type": "code",
   "execution_count": 11,
   "metadata": {},
   "outputs": [],
   "source": [
    "cars = pd.read_csv(\"cars.csv\")                         # reading the dataset"
   ]
  },
  {
   "cell_type": "code",
   "execution_count": 16,
   "metadata": {},
   "outputs": [],
   "source": [
    "x = cars[[\"Cylinders\", \"Weight\", \"Horsepower\"]]        # predictors\n",
    "y = cars[\"MPG\"]                                        # target variable"
   ]
  },
  {
   "cell_type": "code",
   "execution_count": 15,
   "metadata": {},
   "outputs": [],
   "source": [
    "def cross_validation(x_train, y_train, k):                           # function taking the argument x-train, y_train and k\n",
    "    try:\n",
    "        val_score_list=[]\n",
    "        end = 0\n",
    "\n",
    "        #---------------------------Shuffling the data------------------------------------------------\n",
    "\n",
    "        x_sample = x_train.sample(len(x_train))            # shuffling the data randomly\n",
    "        index_list = list(x_sample.index)                  # storing the index of shuffled data in a list\n",
    "        y_sample = []\n",
    "\n",
    "        for j in index_list:\n",
    "            y_sample.append(y_train.iloc[j,])              # storing value of y corresponding to the index of x_sample\n",
    "\n",
    "        df = pd.DataFrame(x_sample)                        # creating a dataframe having x_sample, shuffled value of x_train\n",
    "        df.insert(0, 'MPG', y_sample)                      # inserting column of y_sample at 0th index\n",
    "\n",
    "        x_train = df[[\"Cylinders\", \"Weight\", \"Horsepower\"]]   # x_train has shuffled rows of predictors\n",
    "        y_train = df[\"MPG\"]                                      # y_train is shuffled target variable\n",
    "\n",
    "        #------------------------train and validation set-----------------------------------------------------\n",
    "\n",
    "        for i in range(k):                               # since data is divided in k parts, loop will run k times\n",
    "            start = end                                  # starting index\n",
    "            end = start + (len(x_train) // k)            # ending index\n",
    "\n",
    "            if i != k-1:                                 # except for last value of k, validation set will have records from start to end index\n",
    "                validation_x = x_train.iloc[start:end]\n",
    "                validation_y = y_train.iloc[start:end]\n",
    "            else:\n",
    "                validation_x = x_train.iloc[start:]      # for last value of k, validation set will have all remaining values except training set\n",
    "                validation_y = y_train.iloc[start:]\n",
    "\n",
    "            train1_x = x_train.iloc[:start]              \n",
    "            train2_x = x_train.iloc[end:]\n",
    "            train_x = train1_x.append(train2_x)          # train_x has all values of predictors except those which are in validation set\n",
    "\n",
    "            train1_y = y_train.iloc[:start]\n",
    "            train2_y = y_train.iloc[end:]\n",
    "            train_y = train1_y.append(train2_y)          # train_y has all values of predictors except those which are in validation set\n",
    "\n",
    "        #----------------------------fitting the linear regression model--------------------------------------\n",
    "\n",
    "            reg = LinearRegression().fit(train_x, train_y)\n",
    "\n",
    "            b1 = reg.coef_[0]\n",
    "            b2 = reg.coef_[1]\n",
    "            b3 = reg.coef_[2]\n",
    "\n",
    "            # finding values of constant b0\n",
    "            b0 = reg.intercept_\n",
    "\n",
    "            # linear regression equation to predict the output of validation set\n",
    "            y_pred = b0 + b1*validation_x[\"Cylinders\"] + b2*validation_x[\"Weight\"] + b3*validation_x[\"Horsepower\"]\n",
    "\n",
    "            # finding error which is actual - predicted value of validation target variable\n",
    "            error = validation_y - y_pred\n",
    "\n",
    "            # finding cv score using MSE method\n",
    "            cv_score = (error**2).sum()/len(validation_x)\n",
    "            val_score_list.append(cv_score)\n",
    "\n",
    "        # returning average of CV scores\n",
    "        return np.mean(val_score_list)\n",
    "    \n",
    "    except:\n",
    "        print(\"Some error occured\")                # exception raised"
   ]
  },
  {
   "cell_type": "code",
   "execution_count": 17,
   "metadata": {},
   "outputs": [
    {
     "data": {
      "text/plain": [
       "26.262665708045937"
      ]
     },
     "execution_count": 17,
     "metadata": {},
     "output_type": "execute_result"
    }
   ],
   "source": [
    "cross_validation(x, y, 10)"
   ]
  }
 ],
 "metadata": {
  "kernelspec": {
   "display_name": "Python 3",
   "language": "python",
   "name": "python3"
  },
  "language_info": {
   "codemirror_mode": {
    "name": "ipython",
    "version": 3
   },
   "file_extension": ".py",
   "mimetype": "text/x-python",
   "name": "python",
   "nbconvert_exporter": "python",
   "pygments_lexer": "ipython3",
   "version": "3.8.5"
  }
 },
 "nbformat": 4,
 "nbformat_minor": 4
}
